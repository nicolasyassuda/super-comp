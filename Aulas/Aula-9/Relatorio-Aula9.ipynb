{
 "cells": [
  {
   "cell_type": "markdown",
   "metadata": {},
   "source": [
    "# Relatorio - 9\n",
    "\n",
    "#### _Nome_: *Nicolas Enzo Yassuda*"
   ]
  },
  {
   "cell_type": "markdown",
   "metadata": {},
   "source": [
    "## Resultados para a entrada a seguir:\n",
    "- 50 380\n",
    "- 35 72\n",
    "- 22 19\n",
    "- 84 72\n",
    "- 59 54\n",
    "- 86 64\n",
    "- 41 25\n",
    "- 80 19\n",
    "- 24 27\n",
    "- 87 61\n",
    "- 77 20\n",
    "- 45 24\n",
    "- 64 72\n",
    "- 79 39\n",
    "- 65 24\n",
    "- 55 39\n",
    "- 48 71\n",
    "- 75 12\n",
    "- 61 33\n",
    "- 73 44\n",
    "- 80 17\n",
    "- 56 65\n",
    "- 83 67\n",
    "- 62 49\n",
    "- 66 38\n",
    "- 43 42\n",
    "- 64 71\n",
    "- 39 17\n",
    "- 58 45\n",
    "- 44 22\n",
    "- 81 65\n",
    "- 28 40\n",
    "- 37 66\n",
    "- 86 10\n",
    "- 66 55\n",
    "- 41 22\n",
    "- 48 73\n",
    "- 38 65\n",
    "- 30 55\n",
    "- 66 51\n",
    "- 67 68\n",
    "- 67 23\n",
    "- 41 43\n",
    "- 83 35\n",
    "- 84 71\n",
    "- 29 67\n",
    "- 75 51\n",
    "- 44 18\n",
    "- 70 56\n",
    "- 79 64\n",
    "- 52 38"
   ]
  },
  {
   "cell_type": "markdown",
   "metadata": {},
   "source": [
    "# Abordagem: Mais cara\n",
    "- Valor total na mochila (Mais cara): 593\n",
    "\n",
    "# Abordagem: Mais leve\n",
    "- Valor total na mochila (Mais leve): 974"
   ]
  },
  {
   "cell_type": "markdown",
   "metadata": {},
   "source": [
    "Para esta entrada foi possivel observar a velocidade com a qual os dois algoritmos executam devido a simplicidade dos mesmos.\n",
    "\n",
    "Os dois algoritmos visam melhorar a saida da mochila com base em um objetivo de analise onde o foco em questão pode virar organizar os vetores de uma forma com que peguemos os itens de nossa preferencia primeiro como por exemplo mais caro e mais leve.\n",
    "\n",
    "Os dois se implementados via algoritmo de ordenação possuem uma complexidade rasoavel nlog(n)."
   ]
  },
  {
   "cell_type": "markdown",
   "metadata": {},
   "source": [
    "# Mais Caro"
   ]
  },
  {
   "cell_type": "markdown",
   "metadata": {},
   "source": [
    "Qual é a complexidade computacional deste algoritmo? Ele é a melhor implementação possível?"
   ]
  },
  {
   "cell_type": "markdown",
   "metadata": {
    "vscode": {
     "languageId": "plaintext"
    }
   },
   "source": [
    "A complexidade computacional desse algoritmo é de n log(n) portanto uma complexidade nem ruim nem boa, aceitavel. Ele não é a melhor implementação possivel porém ele se torna um algoritmo de maior precisão se compararmos com algoritmos de pura aleatoriedade, pois fazemos a escolha de itens da mochila visando um objetivo."
   ]
  },
  {
   "cell_type": "markdown",
   "metadata": {},
   "source": [
    "# Mais leve"
   ]
  },
  {
   "cell_type": "markdown",
   "metadata": {},
   "source": [
    "Compare esta heurística com a da seção anterior levando em conta a complexidade computacional."
   ]
  },
  {
   "cell_type": "markdown",
   "metadata": {},
   "source": [
    " R: Visando a complexidade computacional dos dois algoritmos vimos que os dois possuem a mesma complexidade computacional devido a serem baseados em algoritmos de ordenação."
   ]
  },
  {
   "cell_type": "markdown",
   "metadata": {},
   "source": [
    "Quais partes do programa da heurística anterior podem ser aproveitadas para implementar a descrita acima?"
   ]
  },
  {
   "cell_type": "markdown",
   "metadata": {},
   "source": [
    "R: Ele pode aproiveitar praticamente toda a estrutura do algoritmo anterior apenas mudando o fator de comparação para ordenação da lista de itens."
   ]
  },
  {
   "cell_type": "markdown",
   "metadata": {},
   "source": [
    "Crie uma entrada em que a heurística do mais valioso seja muito melhor que a do mais leve. Coloque no relatório as saídas de cada programa."
   ]
  },
  {
   "cell_type": "markdown",
   "metadata": {},
   "source": [
    "R: seria uma entrada onde os itens mais valiosos fossem tambem pesados mas seus valores compensassem para o algoritmo de maior valor."
   ]
  },
  {
   "cell_type": "markdown",
   "metadata": {},
   "source": [
    "Crie uma entrada em que a heurística do mais leve seja muito melhor que a do mais valioso. Coloque no relatório as saídas de cada programa."
   ]
  },
  {
   "cell_type": "markdown",
   "metadata": {},
   "source": [
    "R: seria o mesmo caso do anterior mas no caso inverte os itens leves tivessem valores baixos porem fossem em grande quantidade, portanto o algoritmo conseguiria atingir"
   ]
  },
  {
   "cell_type": "markdown",
   "metadata": {},
   "source": [
    "Com base nas suas respostas acima, em quais situações a heurística do mais valioso é melhor?"
   ]
  },
  {
   "cell_type": "markdown",
   "metadata": {},
   "source": [
    "R: A heurística \"Mais valioso primeiro\" é melhor em situações onde os itens mais valiosos compensam o uso da capacidade disponível da mochila, ou seja, quando o valor dos itens mais caros justifica o peso elevado que eles ocupam"
   ]
  },
  {
   "cell_type": "markdown",
   "metadata": {},
   "source": [
    "Com base nas suas respostas acima, em quais situações a heurística do mais leve é melhor?"
   ]
  },
  {
   "cell_type": "markdown",
   "metadata": {},
   "source": [
    "R: A heurística \"Mais leve primeiro\" é melhor em situações onde maximizar a quantidade de itens na mochila resulta em um valor total maior. Ela foca em adicionar itens que ocupam menos peso, permitindo preencher a mochila com a maior quantidade possível de itens."
   ]
  },
  {
   "cell_type": "markdown",
   "metadata": {},
   "source": [
    "Qual a complexidade computacional das abordagens?"
   ]
  },
  {
   "cell_type": "markdown",
   "metadata": {},
   "source": [
    "R: Ambas são n log(n)"
   ]
  },
  {
   "cell_type": "markdown",
   "metadata": {},
   "source": [
    "Quando uma é melhor que a outra?"
   ]
  },
  {
   "cell_type": "markdown",
   "metadata": {},
   "source": [
    "R: Já foi apontado em perguntas anteriores."
   ]
  },
  {
   "cell_type": "markdown",
   "metadata": {},
   "source": [
    "Alguma consegue obter o melhor valor possível?"
   ]
  },
  {
   "cell_type": "markdown",
   "metadata": {},
   "source": [
    "R: Depende das entradas e do objetivo que seria obter o melhor valor possivel."
   ]
  },
  {
   "cell_type": "markdown",
   "metadata": {},
   "source": []
  }
 ],
 "metadata": {
  "kernelspec": {
   "display_name": "Python 3",
   "language": "python",
   "name": "python3"
  },
  "language_info": {
   "codemirror_mode": {
    "name": "ipython",
    "version": 3
   },
   "file_extension": ".py",
   "mimetype": "text/x-python",
   "name": "python",
   "nbconvert_exporter": "python",
   "pygments_lexer": "ipython3",
   "version": "3.10.9"
  }
 },
 "nbformat": 4,
 "nbformat_minor": 2
}
