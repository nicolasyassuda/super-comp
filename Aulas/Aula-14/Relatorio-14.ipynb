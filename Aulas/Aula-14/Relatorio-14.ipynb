{
 "cells": [
  {
   "cell_type": "markdown",
   "metadata": {},
   "source": [
    "# Relatorio - 13\n",
    "#### _Nome_: *Nicolas Enzo Yassuda*"
   ]
  },
  {
   "cell_type": "markdown",
   "metadata": {},
   "source": [
    "Este relatorio visa obter um maior entendimento do uso do OpenMP, transformando um código sequencial em paralelo, e analisando o desempenho do mesmo."
   ]
  },
  {
   "cell_type": "markdown",
   "metadata": {},
   "source": [
    "for 100000 steps pi = 3.14152 with paralell code 1\n",
    "Elapsed time: 0.008371437s\n",
    "\n",
    "For 1000000 steps pi = 3.141516 with paralell code 2\n",
    "Elapsed time: 0.045404453s\n",
    "\n",
    "for 100000 steps pi = 3.14152 with sequencial code\n",
    "Elapsed time: 0.002247666s\n",
    "\n"
   ]
  },
  {
   "cell_type": "code",
   "execution_count": 3,
   "metadata": {
    "vscode": {
     "languageId": "javascript"
    }
   },
   "outputs": [
    {
     "data": {
      "text/html": [
       "<div>\n",
       "<style scoped>\n",
       "    .dataframe tbody tr th:only-of-type {\n",
       "        vertical-align: middle;\n",
       "    }\n",
       "\n",
       "    .dataframe tbody tr th {\n",
       "        vertical-align: top;\n",
       "    }\n",
       "\n",
       "    .dataframe thead th {\n",
       "        text-align: right;\n",
       "    }\n",
       "</style>\n",
       "<table border=\"1\" class=\"dataframe\">\n",
       "  <thead>\n",
       "    <tr style=\"text-align: right;\">\n",
       "      <th></th>\n",
       "      <th>Steps</th>\n",
       "      <th>Pi</th>\n",
       "      <th>Code Type</th>\n",
       "      <th>Elapsed Time (s)</th>\n",
       "    </tr>\n",
       "  </thead>\n",
       "  <tbody>\n",
       "    <tr>\n",
       "      <th>0</th>\n",
       "      <td>100000</td>\n",
       "      <td>3.141520</td>\n",
       "      <td>parallel code 1</td>\n",
       "      <td>0.008371</td>\n",
       "    </tr>\n",
       "    <tr>\n",
       "      <th>1</th>\n",
       "      <td>1000000</td>\n",
       "      <td>3.141516</td>\n",
       "      <td>parallel code 2</td>\n",
       "      <td>0.045404</td>\n",
       "    </tr>\n",
       "    <tr>\n",
       "      <th>2</th>\n",
       "      <td>100000</td>\n",
       "      <td>3.141520</td>\n",
       "      <td>sequential code</td>\n",
       "      <td>0.002248</td>\n",
       "    </tr>\n",
       "  </tbody>\n",
       "</table>\n",
       "</div>"
      ],
      "text/plain": [
       "     Steps        Pi        Code Type  Elapsed Time (s)\n",
       "0   100000  3.141520  parallel code 1          0.008371\n",
       "1  1000000  3.141516  parallel code 2          0.045404\n",
       "2   100000  3.141520  sequential code          0.002248"
      ]
     },
     "execution_count": 3,
     "metadata": {},
     "output_type": "execute_result"
    }
   ],
   "source": [
    "import pandas as pd\n",
    "\n",
    "data = {\n",
    "    'Steps': [100000, 1000000, 100000],\n",
    "    'Pi': [3.14152, 3.141516, 3.14152],\n",
    "    'Code Type': ['parallel code 1', 'parallel code 2', 'sequential code'],\n",
    "    'Elapsed Time (s)': [0.008371437, 0.045404453, 0.002247666]\n",
    "}\n",
    "\n",
    "df = pd.DataFrame(data)\n",
    "df"
   ]
  },
  {
   "cell_type": "markdown",
   "metadata": {},
   "source": [
    "# Perguntas a serem respondidas.\n",
    "\n",
    "1.  Houve uma melhoria significativa no tempo de execução entre a versão sequencial e as versões paralelas?\n",
    "\n",
    "2.  A estimativa de pi permaneceu precisa em todas as versões?\n",
    "\n",
    "3.  Quais foram os maiores desafios ao paralelizar o algoritmo, especialmente em relação aos números aleatórios?\n",
    "\n",
    "4.  O uso de threads trouxe benefícios claros para este problema específico?"
   ]
  },
  {
   "cell_type": "markdown",
   "metadata": {},
   "source": [
    "1. Houve uma melhoria significativa no tempo de execução entre a versão sequencial e as versões paralelas?\n",
    "  \n",
    "  \n",
    "R: Da versão sequencial para primeira versão paralela não houve grandes melhorias devido ao fato de que o código paralelo 1, estava fazendo uma condição de corrida que fazia o codigo parar toda vez que fosse gerar um numero aleatorio, assim aumentando signifcativamente o tempo de execução do codigo. Já na segunda versão paralela, houve um pequeno problema na hora da simulação acabou que foi colocado um zero a mais no numero de passos, assim aumentando o tempo de execução do codigo, mas mesmo assim o tempo de execução foi até que aceitavel imaginando que ele seria no minimo 10 vezes maior ele seria apenas o dobro do tempo do sequencial, mas temos que levar em consideração diversas coisas como overhead na hora de juntar todas as threads, gerenciamento das proprias threads em si e coisas do tipo.\n",
    "\n",
    "2. A estimativa de pi permaneceu precisa em todas as versões?\n",
    "\n",
    "\n",
    "R: Sim, a estimativa de pi permaneceu precisa em todas as versões, pois o algoritmo é o mesmo, apenas foi paralelizado, temos apenas uma alteração em uma delas devido a erro de um zero a mais no numero de passo do segundo codigo paralelizado.\n",
    "\n",
    "3. Quais foram os maiores desafios ao paralelizar o algoritmo, especialmente em relação aos números aleatórios?\n",
    "\n",
    "R: A principal dificuldade foi entender de forma \"aprofundada\" como funcionava a pseudo aleatoriedade do gerador de numeros aleatorios, pois o mesmo não é thread safe, e para isso foi necessario criar um vetor de numeros aleatorios para cada thread, e assim garantir que não houvesse condição de corrida, e assim garantir que o codigo funcionasse de forma correta. Sendo assim para thread 1 ele iria pegar o vetor de numeros aleatorios 1, para thread 2 o vetor de numeros aleatorios 2 e assim por diante.\n",
    "\n",
    "4. O uso de threads trouxe benefícios claros para este problema específico?\n",
    "\n",
    "R: Acredito que há melhores maneiras de implementasr o uso de threads para o problema em questão, mas acho que o ganho de desempenho não foi tão significativo, claro que para fazer uma analise mais aprofundada eu precisaria fazer uma analise com diferentes usos de recursos e passos para poder tirar uma conclusão mais precisa."
   ]
  },
  {
   "cell_type": "markdown",
   "metadata": {},
   "source": []
  }
 ],
 "metadata": {
  "kernelspec": {
   "display_name": "Python 3",
   "language": "python",
   "name": "python3"
  },
  "language_info": {
   "codemirror_mode": {
    "name": "ipython",
    "version": 3
   },
   "file_extension": ".py",
   "mimetype": "text/x-python",
   "name": "python",
   "nbconvert_exporter": "python",
   "pygments_lexer": "ipython3",
   "version": "3.11.9"
  }
 },
 "nbformat": 4,
 "nbformat_minor": 2
}
