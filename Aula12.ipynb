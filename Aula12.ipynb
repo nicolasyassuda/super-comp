{
  "nbformat": 4,
  "nbformat_minor": 0,
  "metadata": {
    "colab": {
      "provenance": [],
      "gpuType": "T4",
      "authorship_tag": "ABX9TyPNhu2PrSNkfYryHjRFJq9k",
      "include_colab_link": true
    },
    "kernelspec": {
      "name": "python3",
      "display_name": "Python 3"
    },
    "language_info": {
      "name": "python"
    },
    "accelerator": "GPU"
  },
  "cells": [
    {
      "cell_type": "markdown",
      "metadata": {
        "id": "view-in-github",
        "colab_type": "text"
      },
      "source": [
        "<a href=\"https://colab.research.google.com/github/nicolasyassuda/super-comp/blob/main/Aula12.ipynb\" target=\"_parent\"><img src=\"https://colab.research.google.com/assets/colab-badge.svg\" alt=\"Open In Colab\"/></a>"
      ]
    },
    {
      "cell_type": "code",
      "execution_count": 17,
      "metadata": {
        "colab": {
          "base_uri": "https://localhost:8080/"
        },
        "id": "TC8Slyj1wIb2",
        "outputId": "157bc4cb-7e56-472f-9b5e-70bed9298388"
      },
      "outputs": [
        {
          "output_type": "stream",
          "name": "stdout",
          "text": [
            "Overwriting ex1.cu\n"
          ]
        }
      ],
      "source": [
        "%%writefile ex1.cu\n",
        "\n",
        "#include <thrust/device_vector.h>\n",
        "#include <thrust/host_vector.h>\n",
        "#include <thrust/transform.h>\n",
        "#include <iostream>\n",
        "#include <cstdlib>  // Para usar a função rand()\n",
        "#include <ctime>    // Para a função time(), usada na inicialização da semente do rand()\n",
        "\n",
        "// Functor para realizar o cálculo Saxpy\n",
        "struct saxpy\n",
        "{\n",
        "    int a;\n",
        "    saxpy(int a_) : a(a_) {}  // Construtor que inicializa a constante 'a'\n",
        "\n",
        "    __host__ __device__\n",
        "    double operator()(const int& x, const int& y) const {\n",
        "        return a * x + y;  // Operação a⋅x + y\n",
        "    }\n",
        "};\n",
        "\n",
        "int main() {\n",
        "    // Inicializar a semente aleatória para gerar números diferentes em cada execução\n",
        "    std::srand(std::time(0));\n",
        "\n",
        "    // Tamanho dos vetores\n",
        "    const int N = 10;\n",
        "\n",
        "    for (int iteration = 0; iteration < 5; ++iteration) {\n",
        "        // Gerar um valor aleatório para a constante 'a'\n",
        "        int a = std::rand() % 10 + 1;  // Gera um valor aleatório entre 1 e 10\n",
        "\n",
        "        // Vetores no host (CPU)\n",
        "        thrust::host_vector<int> h_x(N);\n",
        "        thrust::host_vector<int> h_y(N);\n",
        "\n",
        "        // Preenche os vetores com valores aleatórios\n",
        "        for(int i = 0; i < N; ++i) {\n",
        "            h_x[i] = rand() % 100;  // Valores aleatórios de 0 a 99\n",
        "            h_y[i] = rand() % 100;\n",
        "        }\n",
        "\n",
        "        // Copiar os vetores para o device (GPU)\n",
        "        thrust::device_vector<int> d_x = h_x;\n",
        "        thrust::device_vector<int> d_y = h_y;\n",
        "        thrust::device_vector<int> d_z(N);  // Vetor para armazenar o resultado\n",
        "\n",
        "        // Aplicar a operação saxpy com o valor aleatório de 'a'\n",
        "        thrust::transform(d_x.begin(), d_x.end(), d_y.begin(), d_z.begin(), saxpy(a));\n",
        "\n",
        "        // Copiar o resultado de volta para o host\n",
        "        thrust::host_vector<int> h_z = d_z;\n",
        "\n",
        "        // Exibir os resultados\n",
        "        std::cout << \"Execução \" << iteration + 1 << \" (a = \" << a << \"):\\n\";\n",
        "        std::cout << \"Resultado do cálculo Saxpy (a * x + y):\\n\";\n",
        "        for(int i = 0; i < N; ++i) {\n",
        "            std::cout << \"a * \" << h_x[i] << \" + \" << h_y[i] << \" = \" << h_z[i] << std::endl;\n",
        "        }\n",
        "        std::cout << \"-----------------------------\\n\";\n",
        "    }\n",
        "\n",
        "    return 0;\n",
        "}\n"
      ]
    },
    {
      "cell_type": "code",
      "source": [
        "!nvcc -arch=sm_70 -std=c++14 ex1.cu -o ex1"
      ],
      "metadata": {
        "id": "57ubDcCawfAU"
      },
      "execution_count": 18,
      "outputs": []
    },
    {
      "cell_type": "code",
      "source": [
        "!./ex1"
      ],
      "metadata": {
        "colab": {
          "base_uri": "https://localhost:8080/"
        },
        "id": "4hIRMuaNwulR",
        "outputId": "2a5c54cd-9247-4ee2-dd93-79a7f2a45622"
      },
      "execution_count": 19,
      "outputs": [
        {
          "output_type": "stream",
          "name": "stdout",
          "text": [
            "Execução 1 (a = 8):\n",
            "Resultado do cálculo Saxpy (a * x + y):\n",
            "a * 18 + 68 = 212\n",
            "a * 89 + 81 = 793\n",
            "a * 9 + 25 = 97\n",
            "a * 52 + 35 = 451\n",
            "a * 92 + 20 = 756\n",
            "a * 95 + 83 = 843\n",
            "a * 9 + 25 = 97\n",
            "a * 71 + 21 = 589\n",
            "a * 90 + 47 = 767\n",
            "a * 79 + 42 = 674\n",
            "-----------------------------\n",
            "Execução 2 (a = 1):\n",
            "Resultado do cálculo Saxpy (a * x + y):\n",
            "a * 25 + 60 = 85\n",
            "a * 48 + 51 = 99\n",
            "a * 89 + 52 = 141\n",
            "a * 64 + 69 = 133\n",
            "a * 67 + 61 = 128\n",
            "a * 39 + 88 = 127\n",
            "a * 3 + 21 = 24\n",
            "a * 97 + 80 = 177\n",
            "a * 25 + 85 = 110\n",
            "a * 73 + 46 = 119\n",
            "-----------------------------\n",
            "Execução 3 (a = 1):\n",
            "Resultado do cálculo Saxpy (a * x + y):\n",
            "a * 8 + 7 = 15\n",
            "a * 5 + 31 = 36\n",
            "a * 81 + 48 = 129\n",
            "a * 78 + 60 = 138\n",
            "a * 90 + 60 = 150\n",
            "a * 85 + 3 = 88\n",
            "a * 8 + 36 = 44\n",
            "a * 44 + 13 = 57\n",
            "a * 1 + 13 = 14\n",
            "a * 80 + 14 = 94\n",
            "-----------------------------\n",
            "Execução 4 (a = 6):\n",
            "Resultado do cálculo Saxpy (a * x + y):\n",
            "a * 20 + 69 = 189\n",
            "a * 26 + 18 = 174\n",
            "a * 50 + 3 = 303\n",
            "a * 3 + 23 = 41\n",
            "a * 49 + 83 = 377\n",
            "a * 31 + 57 = 243\n",
            "a * 41 + 62 = 308\n",
            "a * 38 + 89 = 317\n",
            "a * 93 + 50 = 608\n",
            "a * 31 + 53 = 239\n",
            "-----------------------------\n",
            "Execução 5 (a = 6):\n",
            "Resultado do cálculo Saxpy (a * x + y):\n",
            "a * 34 + 14 = 218\n",
            "a * 71 + 79 = 505\n",
            "a * 27 + 24 = 186\n",
            "a * 44 + 59 = 323\n",
            "a * 91 + 1 = 547\n",
            "a * 80 + 60 = 540\n",
            "a * 79 + 50 = 524\n",
            "a * 10 + 83 = 143\n",
            "a * 5 + 85 = 115\n",
            "a * 32 + 40 = 232\n",
            "-----------------------------\n"
          ]
        }
      ]
    },
    {
      "cell_type": "code",
      "source": [
        "%%writefile ex2.cu\n",
        "\n",
        "#include <thrust/device_vector.h>\n",
        "#include <thrust/transform_reduce.h>\n",
        "#include <thrust/functional.h>\n",
        "#include <cmath>  // Para a função std::sqrt()\n",
        "#include <iostream>\n",
        "#include <cstdlib>  // Para rand() e srand()\n",
        "#include <ctime>    // Para time()\n",
        "\n",
        "// Functor para elevar ao quadrado\n",
        "struct square\n",
        "{\n",
        "    __host__ __device__\n",
        "    float operator()(const float& x) const {\n",
        "        return x * x;  // Eleva ao quadrado\n",
        "    }\n",
        "};\n",
        "\n",
        "// Função que calcula a magnitude de um vetor de floats usando Thrust\n",
        "float magnitude(thrust::device_vector<float>& v) {\n",
        "    // thrust::transform_reduce aplica a transformação (square) e soma os resultados\n",
        "    float sum_of_squares = thrust::transform_reduce(v.begin(), v.end(), square(), 0.0f, thrust::plus<float>());\n",
        "    return std::sqrt(sum_of_squares);  // Retorna a raiz quadrada da soma dos quadrados\n",
        "}\n",
        "\n",
        "int main() {\n",
        "    const int N = 1000000;  // Tamanho do vetor\n",
        "    std::vector<float> h_v(N);  // Usando std::vector no host\n",
        "\n",
        "    // Inicializar a semente para os valores aleatórios\n",
        "    std::srand(std::time(0));\n",
        "\n",
        "    // Preencher o vetor com valores aleatórios\n",
        "    for(int i = 0; i < N; ++i) {\n",
        "        h_v[i] = static_cast<float>(rand()) / RAND_MAX;  // Valores entre 0 e 1\n",
        "    }\n",
        "\n",
        "    // Copiar o vetor para a GPU (device)\n",
        "    thrust::device_vector<float> d_v = h_v;  // Converte std::vector em device_vector\n",
        "\n",
        "    // Medir o tempo de execução na GPU\n",
        "    clock_t start_gpu = clock();\n",
        "    float result_gpu = magnitude(d_v);\n",
        "    clock_t end_gpu = clock();\n",
        "    double gpu_time = double(end_gpu - start_gpu) / CLOCKS_PER_SEC;\n",
        "\n",
        "    std::cout << \"Magnitude (GPU): \" << result_gpu << std::endl;\n",
        "    std::cout << \"Tempo de execução na GPU: \" << gpu_time << \" segundos\" << std::endl;\n",
        "\n",
        "    return 0;\n",
        "}\n",
        "\n"
      ],
      "metadata": {
        "colab": {
          "base_uri": "https://localhost:8080/"
        },
        "id": "3cldmGHD3KxP",
        "outputId": "c2003fd5-fc36-4bf0-f429-9acba9eb039e"
      },
      "execution_count": 23,
      "outputs": [
        {
          "output_type": "stream",
          "name": "stdout",
          "text": [
            "Overwriting ex2.cu\n"
          ]
        }
      ]
    },
    {
      "cell_type": "code",
      "source": [
        "!nvcc -arch=sm_70 -std=c++14 ex2.cu -o ex2"
      ],
      "metadata": {
        "id": "21esx6B8572r"
      },
      "execution_count": 24,
      "outputs": []
    },
    {
      "cell_type": "code",
      "source": [
        "!./ex2"
      ],
      "metadata": {
        "colab": {
          "base_uri": "https://localhost:8080/"
        },
        "id": "NrOTpRcB5_zU",
        "outputId": "1f56be35-e768-4839-e746-b04465623da9"
      },
      "execution_count": 26,
      "outputs": [
        {
          "output_type": "stream",
          "name": "stdout",
          "text": [
            "Magnitude (GPU): 577.049\n",
            "Tempo de execução na GPU: 0.000852 segundos\n"
          ]
        }
      ]
    },
    {
      "cell_type": "code",
      "source": [
        "%%writefile ex2-2.cpp\n",
        "\n",
        "#include <iostream>\n",
        "#include <vector>\n",
        "#include <cmath>  // Para a função std::sqrt()\n",
        "#include <cstdlib>  // Para rand() e srand()\n",
        "#include <ctime>    // Para clock() e time()\n",
        "\n",
        "// Função que calcula a magnitude de um vetor na CPU\n",
        "float magnitude_cpu(const std::vector<float>& v) {\n",
        "    float sum_of_squares = 0.0f;\n",
        "    for(const auto& value : v) {\n",
        "        sum_of_squares += value * value;\n",
        "    }\n",
        "    return std::sqrt(sum_of_squares);\n",
        "}\n",
        "\n",
        "int main() {\n",
        "    const int N = 1000000;  // Tamanho do vetor\n",
        "    std::vector<float> v(N);\n",
        "\n",
        "    // Inicializar a semente para os valores aleatórios\n",
        "    std::srand(std::time(0));\n",
        "\n",
        "    // Preencher o vetor com valores aleatórios\n",
        "    for(int i = 0; i < N; ++i) {\n",
        "        v[i] = static_cast<float>(rand()) / RAND_MAX;  // Valores entre 0 e 1\n",
        "    }\n",
        "\n",
        "    // Medir o tempo de execução na CPU\n",
        "    clock_t start_cpu = clock();\n",
        "    float result_cpu = magnitude_cpu(v);\n",
        "    clock_t end_cpu = clock();\n",
        "    double cpu_time = double(end_cpu - start_cpu) / CLOCKS_PER_SEC;\n",
        "\n",
        "    std::cout << \"Magnitude (CPU): \" << result_cpu << std::endl;\n",
        "    std::cout << \"Tempo de execução na CPU: \" << cpu_time << \" segundos\" << std::endl;\n",
        "\n",
        "    return 0;\n",
        "}\n"
      ],
      "metadata": {
        "colab": {
          "base_uri": "https://localhost:8080/"
        },
        "id": "Xv7v5ZIV6YiG",
        "outputId": "9d8a9757-c74c-4590-b936-7a1a7e643ef7"
      },
      "execution_count": 27,
      "outputs": [
        {
          "output_type": "stream",
          "name": "stdout",
          "text": [
            "Writing ex2-2.cpp\n"
          ]
        }
      ]
    },
    {
      "cell_type": "code",
      "source": [
        "!g++ ex2-2.cpp -o ex2-2"
      ],
      "metadata": {
        "id": "sRNj_oMd6lAn"
      },
      "execution_count": 28,
      "outputs": []
    },
    {
      "cell_type": "code",
      "source": [
        "!./ex2-2"
      ],
      "metadata": {
        "colab": {
          "base_uri": "https://localhost:8080/"
        },
        "id": "LgOJTSpR6qOp",
        "outputId": "aa060a84-5f31-462f-cbbb-f92e3f7d6a9d"
      },
      "execution_count": 29,
      "outputs": [
        {
          "output_type": "stream",
          "name": "stdout",
          "text": [
            "Magnitude (CPU): 577.455\n",
            "Tempo de execução na CPU: 0.014471 segundos\n"
          ]
        }
      ]
    },
    {
      "cell_type": "code",
      "source": [
        "%%writefile ex3.cu\n",
        "\n",
        "#include <thrust/device_vector.h>\n",
        "#include <thrust/transform_reduce.h>\n",
        "#include <thrust/functional.h>\n",
        "#include <iostream>\n",
        "#include <cstdlib>\n",
        "#include <cmath>  // Para sqrt() e fabs()\n",
        "#include <ctime>  // Para clock()\n",
        "\n",
        "// Functor para calcular a diferença ao quadrado\n",
        "struct diff_square_op\n",
        "{\n",
        "    float mean;\n",
        "    diff_square_op(float mean_) : mean(mean_) {}  // Construtor que armazena a média\n",
        "\n",
        "    __host__ __device__\n",
        "    float operator()(const float& x) const {\n",
        "        float diff = x - mean;  // Diferença em relação à média\n",
        "        return diff * diff;     // Eleva ao quadrado\n",
        "    }\n",
        "};\n",
        "\n",
        "// Functor para calcular a variância\n",
        "struct variance_op\n",
        "{\n",
        "    float mean;\n",
        "    variance_op(float mean_) : mean(mean_) {}  // Construtor que armazena a média\n",
        "\n",
        "    __host__ __device__\n",
        "    float operator()(const float& x) const {\n",
        "        float diff = x - mean;  // Diferença em relação à média\n",
        "        return diff * diff;     // Elevar ao quadrado a diferença\n",
        "    }\n",
        "};\n",
        "\n",
        "// Função que calcula a variância usando fusion kernel\n",
        "float calculate_variance_fusion(const thrust::device_vector<float>& d_vec, float mean) {\n",
        "    // Usa transform_reduce para aplicar a operação variance_op e reduzir com a soma\n",
        "    return thrust::transform_reduce(d_vec.begin(), d_vec.end(), variance_op(mean), 0.0f, thrust::plus<float>()) / d_vec.size();\n",
        "}\n",
        "\n",
        "// Função que calcula a variância em duas etapas\n",
        "float calculate_variance_separate(const thrust::device_vector<float>& d_vec, float mean) {\n",
        "    // Etapa 1: Subtrair a média de cada elemento e elevar ao quadrado\n",
        "    thrust::device_vector<float> diff_squared(d_vec.size());\n",
        "    thrust::transform(d_vec.begin(), d_vec.end(), diff_squared.begin(), diff_square_op(mean));\n",
        "\n",
        "    // Etapa 2: Somar os quadrados das diferenças e dividir pelo tamanho do vetor\n",
        "    float sum_of_squares = thrust::reduce(diff_squared.begin(), diff_squared.end(), 0.0f, thrust::plus<float>());\n",
        "    return sum_of_squares / d_vec.size();\n",
        "}\n",
        "\n",
        "// Função que calcula a média\n",
        "float calculate_mean(const thrust::device_vector<float>& d_vec) {\n",
        "    float sum = thrust::reduce(d_vec.begin(), d_vec.end(), 0.0f, thrust::plus<float>());\n",
        "    return sum / d_vec.size();\n",
        "}\n",
        "\n",
        "int main() {\n",
        "    // Tamanhos dos vetores a serem testados\n",
        "    std::vector<int> sizes = {100000, 500000, 1000000, 5000000};\n",
        "\n",
        "    for (int size : sizes) {\n",
        "        std::cout << \"Tamanho do vetor: \" << size << std::endl;\n",
        "\n",
        "        // Gerar vetor aleatório no host\n",
        "        std::vector<float> h_vec(size);\n",
        "        std::srand(std::time(0));\n",
        "\n",
        "        for(int i = 0; i < size; ++i) {\n",
        "            h_vec[i] = static_cast<float>(rand()) / RAND_MAX;\n",
        "        }\n",
        "\n",
        "        // Copiar o vetor para o device\n",
        "        thrust::device_vector<float> d_vec = h_vec;\n",
        "\n",
        "        // Calcular a média (passo comum para ambas as abordagens)\n",
        "        clock_t start = clock();\n",
        "        float mean = calculate_mean(d_vec);\n",
        "        clock_t end = clock();\n",
        "        double mean_time = double(end - start) / CLOCKS_PER_SEC;\n",
        "\n",
        "        std::cout << \"Média calculada: \" << mean << std::endl;\n",
        "\n",
        "        // Parte 1: Variância usando Fusion Kernel\n",
        "        start = clock();\n",
        "        float variance_fusion = calculate_variance_fusion(d_vec, mean);\n",
        "        end = clock();\n",
        "        double fusion_time = double(end - start) / CLOCKS_PER_SEC;\n",
        "\n",
        "        std::cout << \"Variância (Fusion Kernel): \" << variance_fusion << std::endl;\n",
        "        std::cout << \"Tempo de execução (Fusion Kernel): \" << fusion_time << \" segundos\" << std::endl;\n",
        "\n",
        "        // Parte 2: Variância usando abordagem de duas etapas\n",
        "        start = clock();\n",
        "        float variance_separate = calculate_variance_separate(d_vec, mean);\n",
        "        end = clock();\n",
        "        double separate_time = double(end - start) / CLOCKS_PER_SEC;\n",
        "\n",
        "        std::cout << \"Variância (Duas Etapas): \" << variance_separate << std::endl;\n",
        "        std::cout << \"Tempo de execução (Duas Etapas): \" << separate_time << \" segundos\" << std::endl;\n",
        "\n",
        "        std::cout << \"----------------------------------------\" << std::endl;\n",
        "    }\n",
        "\n",
        "    return 0;\n",
        "}\n",
        "\n"
      ],
      "metadata": {
        "colab": {
          "base_uri": "https://localhost:8080/"
        },
        "id": "Gbt48_Dy7CHa",
        "outputId": "5640c4c2-0fe6-4780-cb72-e8181a8863c9"
      },
      "execution_count": 40,
      "outputs": [
        {
          "output_type": "stream",
          "name": "stdout",
          "text": [
            "Overwriting ex3.cu\n"
          ]
        }
      ]
    },
    {
      "cell_type": "code",
      "source": [
        "!nvcc -arch=sm_70 -std=c++14 ex3.cu -o ex3"
      ],
      "metadata": {
        "id": "ZP718h4I7vNk"
      },
      "execution_count": 41,
      "outputs": []
    },
    {
      "cell_type": "code",
      "source": [
        "!./ex3"
      ],
      "metadata": {
        "colab": {
          "base_uri": "https://localhost:8080/"
        },
        "id": "qlTdkkmn7ygX",
        "outputId": "69df6f8f-f426-46a6-94b1-5ee4a60c8640"
      },
      "execution_count": 42,
      "outputs": [
        {
          "output_type": "stream",
          "name": "stdout",
          "text": [
            "Tamanho do vetor: 100000\n",
            "Média calculada: 0.499581\n",
            "Variância (Fusion Kernel): 0.0833519\n",
            "Tempo de execução (Fusion Kernel): 8.5e-05 segundos\n",
            "Variância (Duas Etapas): 0.0833519\n",
            "Tempo de execução (Duas Etapas): 0.000148 segundos\n",
            "----------------------------------------\n",
            "Tamanho do vetor: 500000\n",
            "Média calculada: 0.499872\n",
            "Variância (Fusion Kernel): 0.0834915\n",
            "Tempo de execução (Fusion Kernel): 5e-05 segundos\n",
            "Variância (Duas Etapas): 0.0834915\n",
            "Tempo de execução (Duas Etapas): 0.000265 segundos\n",
            "----------------------------------------\n",
            "Tamanho do vetor: 1000000\n",
            "Média calculada: 0.500016\n",
            "Variância (Fusion Kernel): 0.0833621\n",
            "Tempo de execução (Fusion Kernel): 0.000213 segundos\n",
            "Variância (Duas Etapas): 0.0833621\n",
            "Tempo de execução (Duas Etapas): 0.000456 segundos\n",
            "----------------------------------------\n",
            "Tamanho do vetor: 5000000\n",
            "Média calculada: 0.500092\n",
            "Variância (Fusion Kernel): 0.0833179\n",
            "Tempo de execução (Fusion Kernel): 0.000288 segundos\n",
            "Variância (Duas Etapas): 0.0833179\n",
            "Tempo de execução (Duas Etapas): 0.00083 segundos\n",
            "----------------------------------------\n"
          ]
        }
      ]
    },
    {
      "cell_type": "code",
      "source": [],
      "metadata": {
        "id": "kvBXt37H721G"
      },
      "execution_count": null,
      "outputs": []
    }
  ]
}